{
 "cells": [
  {
   "cell_type": "markdown",
   "id": "bba9724d",
   "metadata": {},
   "source": [
    "#                      Taylor Concert Tours Dataset Using Python\n"
   ]
  },
  {
   "cell_type": "markdown",
   "id": "6a3189b7",
   "metadata": {},
   "source": [
    "## Data Collection:"
   ]
  },
  {
   "cell_type": "code",
   "execution_count": 483,
   "id": "568e0618",
   "metadata": {},
   "outputs": [],
   "source": [
    "import pandas as dp\n",
    "import numpy as np"
   ]
  },
  {
   "cell_type": "code",
   "execution_count": 484,
   "id": "0d858ab1",
   "metadata": {},
   "outputs": [],
   "source": [
    "df = dp.read_csv('C:/Users/badal/Downloads/Taylor Concert.csv', encoding='latin-1')"
   ]
  },
  {
   "cell_type": "code",
   "execution_count": 485,
   "id": "91877c7a",
   "metadata": {},
   "outputs": [
    {
     "data": {
      "text/html": [
       "<div>\n",
       "<style scoped>\n",
       "    .dataframe tbody tr th:only-of-type {\n",
       "        vertical-align: middle;\n",
       "    }\n",
       "\n",
       "    .dataframe tbody tr th {\n",
       "        vertical-align: top;\n",
       "    }\n",
       "\n",
       "    .dataframe thead th {\n",
       "        text-align: right;\n",
       "    }\n",
       "</style>\n",
       "<table border=\"1\" class=\"dataframe\">\n",
       "  <thead>\n",
       "    <tr style=\"text-align: right;\">\n",
       "      <th></th>\n",
       "      <th>City</th>\n",
       "      <th>Country</th>\n",
       "      <th>Venue</th>\n",
       "      <th>Opening act(s)</th>\n",
       "      <th>Attendance (tickets sold / available)</th>\n",
       "      <th>Revenue</th>\n",
       "      <th>Tour</th>\n",
       "    </tr>\n",
       "  </thead>\n",
       "  <tbody>\n",
       "    <tr>\n",
       "      <th>0</th>\n",
       "      <td>Evansville</td>\n",
       "      <td>United States</td>\n",
       "      <td>Roberts Municipal Stadium</td>\n",
       "      <td>Gloriana\\r\\nKellie Pickler</td>\n",
       "      <td>7,463 / 7,463</td>\n",
       "      <td>$360,617</td>\n",
       "      <td>Fearless_Tour</td>\n",
       "    </tr>\n",
       "    <tr>\n",
       "      <th>1</th>\n",
       "      <td>Jonesboro</td>\n",
       "      <td>United States</td>\n",
       "      <td>Convocation Center</td>\n",
       "      <td>Gloriana\\r\\nKellie Pickler</td>\n",
       "      <td>7,822 / 7,822</td>\n",
       "      <td>$340,328</td>\n",
       "      <td>Fearless_Tour</td>\n",
       "    </tr>\n",
       "    <tr>\n",
       "      <th>2</th>\n",
       "      <td>St. Louis</td>\n",
       "      <td>United States</td>\n",
       "      <td>Scottrade Center</td>\n",
       "      <td>Gloriana\\r\\nKellie Pickler</td>\n",
       "      <td>13,764 / 13,764</td>\n",
       "      <td>$650,420</td>\n",
       "      <td>Fearless_Tour</td>\n",
       "    </tr>\n",
       "    <tr>\n",
       "      <th>3</th>\n",
       "      <td>Alexandria</td>\n",
       "      <td>United States</td>\n",
       "      <td>Bishop Ireton High School</td>\n",
       "      <td>Gloriana\\r\\nKellie Pickler</td>\n",
       "      <td></td>\n",
       "      <td></td>\n",
       "      <td>Fearless_Tour</td>\n",
       "    </tr>\n",
       "    <tr>\n",
       "      <th>4</th>\n",
       "      <td>North Charleston</td>\n",
       "      <td>United States</td>\n",
       "      <td>North Charleston Coliseum</td>\n",
       "      <td>Gloriana\\r\\nKellie Pickler</td>\n",
       "      <td>8,751 / 8,751</td>\n",
       "      <td>$398,154</td>\n",
       "      <td>Fearless_Tour</td>\n",
       "    </tr>\n",
       "    <tr>\n",
       "      <th>...</th>\n",
       "      <td>...</td>\n",
       "      <td>...</td>\n",
       "      <td>...</td>\n",
       "      <td>...</td>\n",
       "      <td>...</td>\n",
       "      <td>...</td>\n",
       "      <td>...</td>\n",
       "    </tr>\n",
       "    <tr>\n",
       "      <th>440</th>\n",
       "      <td>Sydney</td>\n",
       "      <td>Australia</td>\n",
       "      <td>ANZ Stadium</td>\n",
       "      <td>Charli XCX\\r\\nBroods</td>\n",
       "      <td>72,805 / 72,805</td>\n",
       "      <td>$7,686,564</td>\n",
       "      <td>Reputation_Stadium_Tour</td>\n",
       "    </tr>\n",
       "    <tr>\n",
       "      <th>441</th>\n",
       "      <td>Brisbane</td>\n",
       "      <td>Australia</td>\n",
       "      <td>The Gabba</td>\n",
       "      <td>Charli XCX\\r\\nBroods</td>\n",
       "      <td>43,907 / 43,907</td>\n",
       "      <td>$4,338,127</td>\n",
       "      <td>Reputation_Stadium_Tour</td>\n",
       "    </tr>\n",
       "    <tr>\n",
       "      <th>442</th>\n",
       "      <td>Auckland</td>\n",
       "      <td>New Zealand</td>\n",
       "      <td>Mount Smart Stadium</td>\n",
       "      <td>Charli XCX\\r\\nBroods</td>\n",
       "      <td>35,749 / 35,749</td>\n",
       "      <td>$3,617,593</td>\n",
       "      <td>Reputation_Stadium_Tour</td>\n",
       "    </tr>\n",
       "    <tr>\n",
       "      <th>443</th>\n",
       "      <td>Tokyo</td>\n",
       "      <td>Japan</td>\n",
       "      <td>Tokyo Dome</td>\n",
       "      <td>Charli XCX</td>\n",
       "      <td>100,109 / 100,109</td>\n",
       "      <td>$14,859,847</td>\n",
       "      <td>Reputation_Stadium_Tour</td>\n",
       "    </tr>\n",
       "    <tr>\n",
       "      <th>444</th>\n",
       "      <td>Tokyo</td>\n",
       "      <td>Japan</td>\n",
       "      <td>Tokyo Dome</td>\n",
       "      <td>Charli XCX</td>\n",
       "      <td>100,109 / 100,109</td>\n",
       "      <td>$14,859,847</td>\n",
       "      <td>Reputation_Stadium_Tour</td>\n",
       "    </tr>\n",
       "  </tbody>\n",
       "</table>\n",
       "<p>445 rows × 7 columns</p>\n",
       "</div>"
      ],
      "text/plain": [
       "                 City        Country                      Venue  \\\n",
       "0          Evansville  United States  Roberts Municipal Stadium   \n",
       "1           Jonesboro  United States         Convocation Center   \n",
       "2           St. Louis  United States           Scottrade Center   \n",
       "3          Alexandria  United States  Bishop Ireton High School   \n",
       "4    North Charleston  United States  North Charleston Coliseum   \n",
       "..                ...            ...                        ...   \n",
       "440            Sydney      Australia                ANZ Stadium   \n",
       "441          Brisbane      Australia                  The Gabba   \n",
       "442          Auckland    New Zealand        Mount Smart Stadium   \n",
       "443             Tokyo          Japan                 Tokyo Dome   \n",
       "444             Tokyo          Japan                 Tokyo Dome   \n",
       "\n",
       "                 Opening act(s) Attendance (tickets sold / available)  \\\n",
       "0    Gloriana\\r\\nKellie Pickler                         7,463 / 7,463   \n",
       "1    Gloriana\\r\\nKellie Pickler                         7,822 / 7,822   \n",
       "2    Gloriana\\r\\nKellie Pickler                       13,764 / 13,764   \n",
       "3    Gloriana\\r\\nKellie Pickler                                        \n",
       "4    Gloriana\\r\\nKellie Pickler                         8,751 / 8,751   \n",
       "..                          ...                                   ...   \n",
       "440        Charli XCX\\r\\nBroods                       72,805 / 72,805   \n",
       "441        Charli XCX\\r\\nBroods                       43,907 / 43,907   \n",
       "442        Charli XCX\\r\\nBroods                       35,749 / 35,749   \n",
       "443                  Charli XCX                     100,109 / 100,109   \n",
       "444                  Charli XCX                     100,109 / 100,109   \n",
       "\n",
       "         Revenue                     Tour  \n",
       "0       $360,617            Fearless_Tour  \n",
       "1       $340,328            Fearless_Tour  \n",
       "2       $650,420            Fearless_Tour  \n",
       "3                          Fearless_Tour  \n",
       "4       $398,154            Fearless_Tour  \n",
       "..           ...                      ...  \n",
       "440   $7,686,564  Reputation_Stadium_Tour  \n",
       "441   $4,338,127  Reputation_Stadium_Tour  \n",
       "442   $3,617,593  Reputation_Stadium_Tour  \n",
       "443  $14,859,847  Reputation_Stadium_Tour  \n",
       "444  $14,859,847  Reputation_Stadium_Tour  \n",
       "\n",
       "[445 rows x 7 columns]"
      ]
     },
     "execution_count": 485,
     "metadata": {},
     "output_type": "execute_result"
    }
   ],
   "source": [
    "df"
   ]
  },
  {
   "cell_type": "markdown",
   "id": "7b19c25e",
   "metadata": {},
   "source": [
    "### Dataset Infomations:"
   ]
  },
  {
   "cell_type": "code",
   "execution_count": 486,
   "id": "1438a3d1",
   "metadata": {},
   "outputs": [
    {
     "name": "stdout",
     "output_type": "stream",
     "text": [
      "<class 'pandas.core.frame.DataFrame'>\n",
      "RangeIndex: 445 entries, 0 to 444\n",
      "Data columns (total 7 columns):\n",
      " #   Column                                 Non-Null Count  Dtype \n",
      "---  ------                                 --------------  ----- \n",
      " 0   City                                   445 non-null    object\n",
      " 1   Country                                445 non-null    object\n",
      " 2   Venue                                  445 non-null    object\n",
      " 3   Opening act(s)                         444 non-null    object\n",
      " 4   Attendance (tickets sold / available)  442 non-null    object\n",
      " 5   Revenue                                442 non-null    object\n",
      " 6   Tour                                   445 non-null    object\n",
      "dtypes: object(7)\n",
      "memory usage: 24.5+ KB\n"
     ]
    },
    {
     "data": {
      "text/html": [
       "<div>\n",
       "<style scoped>\n",
       "    .dataframe tbody tr th:only-of-type {\n",
       "        vertical-align: middle;\n",
       "    }\n",
       "\n",
       "    .dataframe tbody tr th {\n",
       "        vertical-align: top;\n",
       "    }\n",
       "\n",
       "    .dataframe thead th {\n",
       "        text-align: right;\n",
       "    }\n",
       "</style>\n",
       "<table border=\"1\" class=\"dataframe\">\n",
       "  <thead>\n",
       "    <tr style=\"text-align: right;\">\n",
       "      <th></th>\n",
       "      <th>City</th>\n",
       "      <th>Country</th>\n",
       "      <th>Venue</th>\n",
       "      <th>Opening act(s)</th>\n",
       "      <th>Attendance (tickets sold / available)</th>\n",
       "      <th>Revenue</th>\n",
       "      <th>Tour</th>\n",
       "    </tr>\n",
       "  </thead>\n",
       "  <tbody>\n",
       "    <tr>\n",
       "      <th>count</th>\n",
       "      <td>445</td>\n",
       "      <td>445</td>\n",
       "      <td>445</td>\n",
       "      <td>444</td>\n",
       "      <td>442</td>\n",
       "      <td>442</td>\n",
       "      <td>445</td>\n",
       "    </tr>\n",
       "    <tr>\n",
       "      <th>unique</th>\n",
       "      <td>143</td>\n",
       "      <td>24</td>\n",
       "      <td>206</td>\n",
       "      <td>41</td>\n",
       "      <td>295</td>\n",
       "      <td>296</td>\n",
       "      <td>5</td>\n",
       "    </tr>\n",
       "    <tr>\n",
       "      <th>top</th>\n",
       "      <td>Los Angeles</td>\n",
       "      <td>United States</td>\n",
       "      <td>Staples Center</td>\n",
       "      <td>Gloriana\\r\\nKellie Pickler</td>\n",
       "      <td></td>\n",
       "      <td></td>\n",
       "      <td>Fearless_Tour</td>\n",
       "    </tr>\n",
       "    <tr>\n",
       "      <th>freq</th>\n",
       "      <td>16</td>\n",
       "      <td>314</td>\n",
       "      <td>16</td>\n",
       "      <td>85</td>\n",
       "      <td>35</td>\n",
       "      <td>36</td>\n",
       "      <td>111</td>\n",
       "    </tr>\n",
       "  </tbody>\n",
       "</table>\n",
       "</div>"
      ],
      "text/plain": [
       "               City        Country           Venue  \\\n",
       "count           445            445             445   \n",
       "unique          143             24             206   \n",
       "top     Los Angeles  United States  Staples Center   \n",
       "freq             16            314              16   \n",
       "\n",
       "                    Opening act(s) Attendance (tickets sold / available)  \\\n",
       "count                          444                                   442   \n",
       "unique                          41                                   295   \n",
       "top     Gloriana\\r\\nKellie Pickler                                        \n",
       "freq                            85                                    35   \n",
       "\n",
       "       Revenue           Tour  \n",
       "count      442            445  \n",
       "unique     296              5  \n",
       "top            Fearless_Tour  \n",
       "freq        36            111  "
      ]
     },
     "execution_count": 486,
     "metadata": {},
     "output_type": "execute_result"
    }
   ],
   "source": [
    "df.info()\n",
    "df.describe()"
   ]
  },
  {
   "cell_type": "code",
   "execution_count": 487,
   "id": "df21a9c9",
   "metadata": {},
   "outputs": [
    {
     "data": {
      "text/plain": [
       "Los Angeles        16\n",
       "London             12\n",
       "Toronto            10\n",
       "Philadelphia       10\n",
       "Melbourne          10\n",
       "                   ..\n",
       "Lafayette           1\n",
       "Greenville          1\n",
       "Duluth              1\n",
       "University Park     1\n",
       "Miami Gardens       1\n",
       "Name: City, Length: 143, dtype: int64"
      ]
     },
     "execution_count": 487,
     "metadata": {},
     "output_type": "execute_result"
    }
   ],
   "source": [
    "df['City'].value_counts()"
   ]
  },
  {
   "cell_type": "markdown",
   "id": "3e0a9217",
   "metadata": {},
   "source": [
    "### Data Cleaning and Conversion:"
   ]
  },
  {
   "cell_type": "code",
   "execution_count": 488,
   "id": "d1850a0f",
   "metadata": {},
   "outputs": [],
   "source": [
    "df[['City','Country','Venue','Opening act(s)','Tour']]=df[['City','Country','Venue','Opening act(s)','Tour']].astype('string')"
   ]
  },
  {
   "cell_type": "markdown",
   "id": "3c2631e4",
   "metadata": {},
   "source": [
    "The column 'Attendance (tickets sold / available)' appears to contain values in a format that includes both the number of tickets sold and the number of tickets available, separated by a slash '/'. If you want to convert these values to integers, \n",
    "you will need to perform some data cleaning to extract the relevant information."
   ]
  },
  {
   "cell_type": "code",
   "execution_count": 489,
   "id": "523e5cb2",
   "metadata": {},
   "outputs": [],
   "source": [
    "# Split the column into two columns\n",
    "df[['Tickets Sold','Tickets Available']] = df['Attendance (tickets sold / available)'].str.split('/', expand=True)\n",
    "\n",
    "# Remove commas and any non-numeric characters\n",
    "\n",
    "df['Tickets Sold'] = df['Tickets Sold'].str.replace(',', '', regex=True).str.extract('(\\d+)')\n",
    "df['Tickets Available'] = df['Tickets Available'].str.replace(',', '', regex=True).str.extract('(\\d+)')\n",
    "\n",
    "# Fill NaN values with zero , Convert the columns to integers and float\n",
    "\n",
    "df['Tickets Sold'] = df['Tickets Sold'].fillna(0).astype(int)\n",
    "df['Tickets Available'] = df['Tickets Available'].fillna(0).astype(int)\n",
    "\n",
    "\n",
    "# Define a function to clean and convert revenue values\n",
    "def clean_and_convert_revenue(revenue):\n",
    "    try:\n",
    "        # Remove non-numeric characters, dollar signs, and commas\n",
    "        cleaned_revenue = ''.join(filter(str.isdigit, str(revenue)))\n",
    "        # Convert to float\n",
    "        return float(cleaned_revenue) if cleaned_revenue else np.nan\n",
    "    except ValueError:\n",
    "        return np.nan\n",
    "\n",
    "# Apply the cleaning function to the 'Revenue' column\n",
    "df['Revenue'] = df['Revenue'].apply(clean_and_convert_revenue).astype(float)"
   ]
  },
  {
   "cell_type": "code",
   "execution_count": null,
   "id": "ab505f41",
   "metadata": {},
   "outputs": [],
   "source": []
  },
  {
   "cell_type": "code",
   "execution_count": 490,
   "id": "094f57f7",
   "metadata": {},
   "outputs": [],
   "source": [
    "# Deleting Column\n",
    "del df['Attendance (tickets sold / available)']"
   ]
  },
  {
   "cell_type": "code",
   "execution_count": 491,
   "id": "61cf80d1",
   "metadata": {},
   "outputs": [
    {
     "name": "stdout",
     "output_type": "stream",
     "text": [
      "<class 'pandas.core.frame.DataFrame'>\n",
      "RangeIndex: 445 entries, 0 to 444\n",
      "Data columns (total 8 columns):\n",
      " #   Column             Non-Null Count  Dtype  \n",
      "---  ------             --------------  -----  \n",
      " 0   City               445 non-null    string \n",
      " 1   Country            445 non-null    string \n",
      " 2   Venue              445 non-null    string \n",
      " 3   Opening act(s)     444 non-null    string \n",
      " 4   Revenue            406 non-null    float64\n",
      " 5   Tour               445 non-null    string \n",
      " 6   Tickets Sold       445 non-null    int32  \n",
      " 7   Tickets Available  445 non-null    int32  \n",
      "dtypes: float64(1), int32(2), string(5)\n",
      "memory usage: 24.5 KB\n"
     ]
    }
   ],
   "source": [
    "df.info()"
   ]
  },
  {
   "cell_type": "markdown",
   "id": "98037001",
   "metadata": {},
   "source": [
    "### Handling Missing Values"
   ]
  },
  {
   "cell_type": "code",
   "execution_count": 492,
   "id": "b694fc56",
   "metadata": {},
   "outputs": [
    {
     "data": {
      "text/plain": [
       "City                  0\n",
       "Country               0\n",
       "Venue                 0\n",
       "Opening act(s)        1\n",
       "Revenue              39\n",
       "Tour                  0\n",
       "Tickets Sold          0\n",
       "Tickets Available     0\n",
       "dtype: int64"
      ]
     },
     "execution_count": 492,
     "metadata": {},
     "output_type": "execute_result"
    }
   ],
   "source": [
    "df.isnull().sum()"
   ]
  },
  {
   "cell_type": "code",
   "execution_count": 493,
   "id": "b284a7d2",
   "metadata": {},
   "outputs": [],
   "source": [
    "df['Revenue'].fillna(df['Revenue'].median(),inplace = True)\n",
    "df['Opening act(s)'].fillna('Unknown', inplace=True)"
   ]
  },
  {
   "cell_type": "code",
   "execution_count": 494,
   "id": "dae3a5be",
   "metadata": {},
   "outputs": [
    {
     "data": {
      "text/plain": [
       "City                 0\n",
       "Country              0\n",
       "Venue                0\n",
       "Opening act(s)       0\n",
       "Revenue              0\n",
       "Tour                 0\n",
       "Tickets Sold         0\n",
       "Tickets Available    0\n",
       "dtype: int64"
      ]
     },
     "execution_count": 494,
     "metadata": {},
     "output_type": "execute_result"
    }
   ],
   "source": [
    "df.isnull().sum()"
   ]
  },
  {
   "cell_type": "markdown",
   "id": "650b1e79",
   "metadata": {},
   "source": [
    "## Detecting and Handling Outliers :"
   ]
  },
  {
   "cell_type": "code",
   "execution_count": 495,
   "id": "1d269070",
   "metadata": {},
   "outputs": [
    {
     "data": {
      "text/html": [
       "<div>\n",
       "<style scoped>\n",
       "    .dataframe tbody tr th:only-of-type {\n",
       "        vertical-align: middle;\n",
       "    }\n",
       "\n",
       "    .dataframe tbody tr th {\n",
       "        vertical-align: top;\n",
       "    }\n",
       "\n",
       "    .dataframe thead th {\n",
       "        text-align: right;\n",
       "    }\n",
       "</style>\n",
       "<table border=\"1\" class=\"dataframe\">\n",
       "  <thead>\n",
       "    <tr style=\"text-align: right;\">\n",
       "      <th></th>\n",
       "      <th>Revenue</th>\n",
       "      <th>Tickets Sold</th>\n",
       "      <th>Tickets Available</th>\n",
       "    </tr>\n",
       "  </thead>\n",
       "  <tbody>\n",
       "    <tr>\n",
       "      <th>count</th>\n",
       "      <td>4.450000e+02</td>\n",
       "      <td>445.000000</td>\n",
       "      <td>445.000000</td>\n",
       "    </tr>\n",
       "    <tr>\n",
       "      <th>mean</th>\n",
       "      <td>3.731303e+06</td>\n",
       "      <td>35628.417978</td>\n",
       "      <td>35671.577528</td>\n",
       "    </tr>\n",
       "    <tr>\n",
       "      <th>std</th>\n",
       "      <td>4.164396e+06</td>\n",
       "      <td>35178.541095</td>\n",
       "      <td>35165.020385</td>\n",
       "    </tr>\n",
       "    <tr>\n",
       "      <th>min</th>\n",
       "      <td>1.533030e+05</td>\n",
       "      <td>0.000000</td>\n",
       "      <td>0.000000</td>\n",
       "    </tr>\n",
       "    <tr>\n",
       "      <th>25%</th>\n",
       "      <td>1.041935e+06</td>\n",
       "      <td>12807.000000</td>\n",
       "      <td>12807.000000</td>\n",
       "    </tr>\n",
       "    <tr>\n",
       "      <th>50%</th>\n",
       "      <td>2.054690e+06</td>\n",
       "      <td>25991.000000</td>\n",
       "      <td>25991.000000</td>\n",
       "    </tr>\n",
       "    <tr>\n",
       "      <th>75%</th>\n",
       "      <td>4.268678e+06</td>\n",
       "      <td>49464.000000</td>\n",
       "      <td>49464.000000</td>\n",
       "    </tr>\n",
       "    <tr>\n",
       "      <th>max</th>\n",
       "      <td>2.203139e+07</td>\n",
       "      <td>174764.000000</td>\n",
       "      <td>174764.000000</td>\n",
       "    </tr>\n",
       "  </tbody>\n",
       "</table>\n",
       "</div>"
      ],
      "text/plain": [
       "            Revenue   Tickets Sold  Tickets Available\n",
       "count  4.450000e+02     445.000000         445.000000\n",
       "mean   3.731303e+06   35628.417978       35671.577528\n",
       "std    4.164396e+06   35178.541095       35165.020385\n",
       "min    1.533030e+05       0.000000           0.000000\n",
       "25%    1.041935e+06   12807.000000       12807.000000\n",
       "50%    2.054690e+06   25991.000000       25991.000000\n",
       "75%    4.268678e+06   49464.000000       49464.000000\n",
       "max    2.203139e+07  174764.000000      174764.000000"
      ]
     },
     "execution_count": 495,
     "metadata": {},
     "output_type": "execute_result"
    }
   ],
   "source": [
    "df.describe()"
   ]
  },
  {
   "cell_type": "code",
   "execution_count": 496,
   "id": "296a6dbe",
   "metadata": {},
   "outputs": [
    {
     "data": {
      "image/png": "[encoded data removed]",
      "text/plain": [
       "<Figure size 1000x700 with 1 Axes>"
      ]
     },
     "metadata": {},
     "output_type": "display_data"
    }
   ],
   "source": [
    "import matplotlib.pyplot as plt\n",
    "\n",
    "fig = plt.figure(figsize = (10,7))\n",
    "plt.boxplot(df['Revenue'])\n",
    "plt.show()"
   ]
  },
  {
   "cell_type": "code",
   "execution_count": 497,
   "id": "06403d74",
   "metadata": {},
   "outputs": [
    {
     "name": "stdout",
     "output_type": "stream",
     "text": [
      "      Revenue\n",
      "0    0.810317\n",
      "1    0.815194\n",
      "2    0.740648\n",
      "3    0.403060\n",
      "4    0.801293\n",
      "..        ...\n",
      "440  0.950849\n",
      "441  0.145881\n",
      "442  0.027336\n",
      "443  2.675315\n",
      "444  2.675315\n",
      "\n",
      "[445 rows x 1 columns]\n"
     ]
    }
   ],
   "source": [
    "# Z-Score :\n",
    "\n",
    "from scipy import stats\n",
    "\n",
    "z= np.abs(stats.zscore(df[['Revenue']]))\n",
    "print(z)"
   ]
  },
  {
   "cell_type": "code",
   "execution_count": 498,
   "id": "4ff6732b",
   "metadata": {},
   "outputs": [
    {
     "name": "stdout",
     "output_type": "stream",
     "text": [
      "(445, 8)\n",
      "(435, 8)\n"
     ]
    }
   ],
   "source": [
    "print(df.shape)\n",
    "df = df[(z<3).all(axis=1)]\n",
    "print(df.shape)"
   ]
  },
  {
   "cell_type": "code",
   "execution_count": null,
   "id": "10206356",
   "metadata": {},
   "outputs": [],
   "source": []
  },
  {
   "cell_type": "markdown",
   "id": "eced3281",
   "metadata": {},
   "source": [
    "1 - How many concert tours are included in the\n",
    "dataset?\n",
    "- 445 Tours"
   ]
  },
  {
   "cell_type": "markdown",
   "id": "57fb145c",
   "metadata": {},
   "source": [
    "2 - Which country hosted the most number of\n",
    "Taylor Swift's concerts?\n"
   ]
  },
  {
   "cell_type": "code",
   "execution_count": 499,
   "id": "ddb1184c",
   "metadata": {},
   "outputs": [
    {
     "name": "stdout",
     "output_type": "stream",
     "text": [
      "The country that hosted the most number of Taylor Swift's concerts is United States.\n"
     ]
    }
   ],
   "source": [
    "most_hosted_country = df['Country'].value_counts().idxmax()\n",
    "print(f\"The country that hosted the most number of Taylor Swift's concerts is {most_hosted_country}.\")\n"
   ]
  },
  {
   "cell_type": "markdown",
   "id": "ddfab2e8",
   "metadata": {},
   "source": [
    "3 - What was the average attendance across all\n",
    "concert tours?"
   ]
  },
  {
   "cell_type": "code",
   "execution_count": 500,
   "id": "e6d3fa59",
   "metadata": {},
   "outputs": [
    {
     "name": "stdout",
     "output_type": "stream",
     "text": [
      "The average attendance across all concert tours is:33020.07\n"
     ]
    }
   ],
   "source": [
    "average_attendance = df['Tickets Sold'].mean()\n",
    "\n",
    "print(f\"The average attendance across all concert tours is:{average_attendance:.2f}\")"
   ]
  },
  {
   "cell_type": "markdown",
   "id": "7f6e6680",
   "metadata": {},
   "source": [
    "4 - What was the highest attendance recorded for\n",
    "a single concert? Which tour and year was it\n",
    "associated with?"
   ]
  },
  {
   "cell_type": "code",
   "execution_count": 501,
   "id": "4805ccec",
   "metadata": {},
   "outputs": [
    {
     "name": "stdout",
     "output_type": "stream",
     "text": [
      "The highest attendance recorded for a single concert was 143427.\n",
      "It was associated with the 'Reputation_Stadium_Tour'.\n"
     ]
    }
   ],
   "source": [
    "# Find the row with the highest attendance\n",
    "highest_attendance_row = df[df['Tickets Sold'] == df['Tickets Sold'].max()]\n",
    "\n",
    "# Get the maximum attendance value\n",
    "max_attendance_value = highest_attendance_row['Tickets Sold'].values[0]\n",
    "\n",
    "# Get the corresponding tour\n",
    "tour_associated = highest_attendance_row['Tour'].values[0]\n",
    "\n",
    "print(f\"The highest attendance recorded for a single concert was {max_attendance_value}.\")\n",
    "print(f\"It was associated with the '{tour_associated}'.\")"
   ]
  },
  {
   "cell_type": "code",
   "execution_count": null,
   "id": "5c5163ea",
   "metadata": {},
   "outputs": [],
   "source": [
    "\n"
   ]
  },
  {
   "cell_type": "markdown",
   "id": "6572af00",
   "metadata": {},
   "source": [
    "5 - Create a bar chart showing the distribution of\n",
    "attendance across all concert tours."
   ]
  },
  {
   "cell_type": "code",
   "execution_count": 502,
   "id": "35e5b9bb",
   "metadata": {},
   "outputs": [
    {
     "data": {
      "image/png": "[encoded data removed]",
      "text/plain": [
       "<Figure size 1200x600 with 1 Axes>"
      ]
     },
     "metadata": {},
     "output_type": "display_data"
    }
   ],
   "source": [
    "import matplotlib.pyplot as plt\n",
    "\n",
    "plt.figure(figsize=(12, 6))\n",
    "plt.bar(df['Tour'],df['Tickets Sold'])\n",
    "plt.xlabel('Tour')\n",
    "plt.ylabel('Total Attendance')\n",
    "plt.title('Distribution of Attendance Across Concert Tours')\n",
    "plt.show()"
   ]
  },
  {
   "cell_type": "markdown",
   "id": "173f74f5",
   "metadata": {},
   "source": [
    "\n",
    "6 - What are the top 5 cities with the highest\n",
    "average attendance?"
   ]
  },
  {
   "cell_type": "code",
   "execution_count": 503,
   "id": "e933cf02",
   "metadata": {},
   "outputs": [
    {
     "name": "stdout",
     "output_type": "stream",
     "text": [
      "City\n",
      "Santa Clara        104844.500000\n",
      "Foxborough         104798.571429\n",
      "Chicago             96288.600000\n",
      "Landover            95672.000000\n",
      "East Rutherford     90869.666667\n",
      "Name: Tickets Sold, dtype: float64\n"
     ]
    }
   ],
   "source": [
    "top_cities = df.groupby('City')['Tickets Sold'].mean()\n",
    "top_cities = top_cities.sort_values(ascending = False).head()\n",
    "print(top_cities)"
   ]
  },
  {
   "cell_type": "markdown",
   "id": "a443e43f",
   "metadata": {},
   "source": [
    "7 - Is there a noticeable difference in attendance\n",
    "between concerts held in the United States and\n",
    "those held in other countries? Visualize it."
   ]
  },
  {
   "cell_type": "code",
   "execution_count": 504,
   "id": "f6f51a4b",
   "metadata": {
    "scrolled": true
   },
   "outputs": [
    {
     "data": {
      "image/png": "[encoded data removed]",
      "text/plain": [
       "<Figure size 600x700 with 1 Axes>"
      ]
     },
     "metadata": {},
     "output_type": "display_data"
    },
    {
     "name": "stdout",
     "output_type": "stream",
     "text": [
      "Country_Type\n",
      "Other    34014.297710\n",
      "USA      32591.641447\n",
      "Name: Tickets Sold, dtype: float64\n"
     ]
    }
   ],
   "source": [
    "# Create a copy of the DataFrame\n",
    "df_copy = df.copy()\n",
    "\n",
    "# Create the 'Country_Type' column based on the 'Country' column in the copied DataFrame\n",
    "df_copy['Country_Type'] = df_copy['Country'].apply(lambda x: 'USA' if x == 'United States' else 'Other')\n",
    "\n",
    "# df['Country_Type'] = df['Country'].apply(lambda x: 'USA' if x == 'United States' else 'Other')\n",
    "plt.figure(figsize=(6,7))\n",
    "\n",
    "# Group by 'Country_Type' and calculate the mean attendance for each group\n",
    "mean_attendance_by_country = df_copy.groupby('Country_Type')['Tickets Sold'].mean()\n",
    "\n",
    "mean_attendance_by_country.plot(kind='bar', color=['blue', 'green'])\n",
    "plt.xlabel('Country')\n",
    "plt.ylabel('Average Attendance')\n",
    "plt.title('Average Attendance by Country')\n",
    "plt.show()\n",
    "print(mean_attendance_by_country)\n"
   ]
  },
  {
   "cell_type": "markdown",
   "id": "6248acc2",
   "metadata": {},
   "source": [
    "Based on the data, it appears that concerts in the other countries have a slightly higher average attendance compared to concerts held in USA.\n",
    "\n",
    "   Average Attendance in the USA: Approximately 32,591.64\n",
    "   Average Attendance in Other Countries: Approximately 34,014.30\n",
    "While there is a noticeable difference in average attendance, the gap between the two is not extremely large."
   ]
  },
  {
   "cell_type": "markdown",
   "id": "f3e28d24",
   "metadata": {},
   "source": [
    "## Conclusions"
   ]
  },
  {
   "cell_type": "markdown",
   "id": "d231c024",
   "metadata": {},
   "source": [
    "\n",
    "\n",
    "Average Attendance: The average attendance across all concert tours was approximately 33,803 tickets sold per concert. This figure serves as a valuable baseline for tour planning and revenue projections.\n",
    "\n",
    "Top Host Country: The United States hosted the most number of Taylor Swift's concerts. This information can guide future tour scheduling and marketing efforts, as the United States appears to be a prime location for concerts.\n",
    "\n",
    "Attendance Comparison: When comparing attendance between concerts held in the United States and those held in other countries, it was observed that concerts in other countries had a slightly higher average attendance (approximately 34,014.30) compared to concerts in the USA (approximately 32,591.64). While this difference is not substantial, it suggests that there may be some variation in attendance between the two categories.\n",
    "\n",
    "Further Analysis: It's important to note that this analysis provides a broad overview of attendance trends. Further statistical analysis is recommended to determine if the difference in attendance between the United States and other countries is statistically significant. This analysis can help in making data-driven decisions for tour strategies and marketing campaigns.\n",
    "\n",
    "Data Enhancement: To gain deeper insights, enhancing the dataset with additional information such as concert year, revenue, genre, and demographic details of concertgoers would be beneficial. This could lead to a more comprehensive understanding of audience behavior and concert dynamics.\n",
    "\n",
    "Revenue Analysis: Beyond attendance, it's crucial to analyze concert revenue trends and profitability. Understanding the relationship between attendance and revenue can guide pricing strategies and financial planning.\n",
    "\n",
    "Tailoring Concerts: Exploring the impact of specific albums or genres on attendance and revenue can inform setlist choices and promotional efforts. Additionally, understanding the demographics of concertgoers and their preferences can help tailor concerts to specific audiences.\n",
    "\n",
    "Timing and Seasonality: Assessing whether attendance varies by season or time of year can aid in tour scheduling and resource allocation.\n",
    "\n",
    "Incorporating these insights into decision-making processes can enhance the planning and execution of Taylor Swift's concert tours, leading to more successful and profitable events. Further data collection and analysis are recommended to refine these findings and gain a deeper understanding of concert dynamics and audience behavior."
   ]
  },
  {
   "cell_type": "code",
   "execution_count": null,
   "id": "f77670e0",
   "metadata": {},
   "outputs": [],
   "source": []
  }
 ],
 "metadata": {
  "kernelspec": {
   "display_name": "Python 3 (ipykernel)",
   "language": "python",
   "name": "python3"
  },
  "language_info": {
   "codemirror_mode": {
    "name": "ipython",
    "version": 3
   },
   "file_extension": ".py",
   "mimetype": "text/x-python",
   "name": "python",
   "nbconvert_exporter": "python",
   "pygments_lexer": "ipython3",
   "version": "3.11.4"
  }
 },
 "nbformat": 4,
 "nbformat_minor": 5
}
